{
 "cells": [
  {
   "cell_type": "markdown",
   "id": "a2858615-989f-4c9d-b9d1-b559d18def0e",
   "metadata": {},
   "source": [
    "# Problem Set 5"
   ]
  },
  {
   "cell_type": "markdown",
   "id": "adb4e9c1-13fe-4b53-b050-87c82bb1ac1c",
   "metadata": {},
   "source": [
    "For this problem set (Due Dec. 6th, 2022), we will be using world.sqlite to answer these questions. The database can be found at the following path on HiPerGator:\n",
    "```\n",
    "/blue/bsc4452/share/Class_Files/data/world.sqlite\n",
    "```"
   ]
  },
  {
   "cell_type": "markdown",
   "id": "b4961b04-7680-4acf-99dc-b4b6b0e84cad",
   "metadata": {},
   "source": [
    "### Group Members\n",
    "- Amanda Markee\n",
    "- Julia Bruner\n",
    "- Kaylin Kleckner"
   ]
  },
  {
   "cell_type": "markdown",
   "id": "66b05605-f82a-413e-9b2c-1f34f883d28b",
   "metadata": {},
   "source": [
    "### Question 1 (5 Points) Amanda Markee\n",
    "What is the country with the latest year (most recent) of independence? The code can either be SQL or SQLAlchemy code.\n",
    "\n",
    "- Provide your answer (2 points) \n",
    "- Provide the code used to get that answer (3 points)\n"
   ]
  },
  {
   "cell_type": "code",
   "execution_count": 9,
   "id": "eb182605-36ac-417f-80a5-ac45eeed0d74",
   "metadata": {
    "tags": []
   },
   "outputs": [],
   "source": [
    "#!/usr/bin/env python\n",
    "from sqlalchemy import create_engine\n",
    "from sqlalchemy import MetaData\n",
    "from sqlalchemy import Table, Column\n",
    "from sqlalchemy import Integer, String\n",
    "from sqlalchemy import sql, select, join, desc\n",
    "from sqlalchemy import func\n",
    "\n",
    "# Create an Engine obect which is our handle into the database\n",
    "engine = create_engine('sqlite:////blue/bsc4452/amanda.markee/Class_Files/data/world.sqlite')\n",
    "\n",
    "# Connect to the database\n",
    "conn = engine.connect()\n",
    "\n",
    "# Read the metadata from the existing database.\n",
    "# Since the database already exists, and has tables defined, we can create Python objects based on these automatically.\n",
    "DBInfo = MetaData(engine)"
   ]
  },
  {
   "cell_type": "code",
   "execution_count": 10,
   "id": "181b5b3f-bf20-4104-9a2d-8668b5517056",
   "metadata": {
    "tags": []
   },
   "outputs": [],
   "source": [
    "# Auto-create the city object basedon the metadata read into the DBInfo.\n",
    "city=Table('city', DBInfo, autoload=True)"
   ]
  },
  {
   "cell_type": "code",
   "execution_count": 11,
   "id": "0bb85931-5d46-4152-8732-9d2031c1e106",
   "metadata": {},
   "outputs": [
    {
     "data": {
      "text/plain": [
       "sqlalchemy.sql.schema.Table"
      ]
     },
     "execution_count": 11,
     "metadata": {},
     "output_type": "execute_result"
    }
   ],
   "source": [
    "type(city) # Not a dataframe, but a SQLalchemy schema table"
   ]
  },
  {
   "cell_type": "code",
   "execution_count": 12,
   "id": "7ae5b9d2-d616-4d97-9f7b-84ff91ddf321",
   "metadata": {},
   "outputs": [
    {
     "name": "stdout",
     "output_type": "stream",
     "text": [
      "(1, 'Kabul', 1780000)\n",
      "(2, 'Qandahar', 237500)\n",
      "(3, 'Herat', 186800)\n",
      "(4, 'Mazar-e-Sharif', 127800)\n",
      "(6, 'Rotterdam', 593321)\n",
      "(7, 'Haag', 440900)\n",
      "(8, 'Utrecht', 234323)\n",
      "(9, 'Eindhoven', 201843)\n",
      "(10, 'Tilburg', 193238)\n",
      "(11, 'Groningen', 172701)\n"
     ]
    }
   ],
   "source": [
    "# Mirroring this command: SELECT Id, Name, Population FROM city LIMIT 10;\n",
    "# city.c.ID where city = object, c = column, and ID = column name\n",
    "query = select([city.c.ID, city.c.Name, city.c.Population]).limit(10)\n",
    "result = conn.execute(query)\n",
    "for row in result:\n",
    "    print(row)"
   ]
  },
  {
   "cell_type": "code",
   "execution_count": 13,
   "id": "6a00ee6a-e94c-4508-a271-026ec3a9b24b",
   "metadata": {},
   "outputs": [],
   "source": [
    "# Using the code above for guidence, I want to start building a table for country-specific information\n",
    "country=Table('country', DBInfo, autoload=True)"
   ]
  },
  {
   "cell_type": "code",
   "execution_count": 14,
   "id": "2761e242-e8f9-45ee-bb1b-fb1af5ef9d27",
   "metadata": {
    "tags": []
   },
   "outputs": [
    {
     "name": "stdout",
     "output_type": "stream",
     "text": [
      "('Palau', 1994)\n",
      "('Czech Republic', 1993)\n",
      "('Eritrea', 1993)\n",
      "('Slovakia', 1993)\n",
      "('Bosnia and Herzegovina', 1992)\n",
      "('Armenia', 1991)\n",
      "('Azerbaijan', 1991)\n",
      "('Belarus', 1991)\n",
      "('Estonia', 1991)\n",
      "('Georgia', 1991)\n"
     ]
    }
   ],
   "source": [
    "# Using the above code for guidence, I want to query the country with their independence year.\n",
    "# Lastly, I want to print the independence years in descending order to find the youngest country.\n",
    "\n",
    "query_ind = select([country.c.Name,country.c.IndepYear]).where(country.c.IndepYear is not None).order_by(desc(country.c.IndepYear)).limit(10)\n",
    "\n",
    "result = conn.execute(query_ind)\n",
    "for row in result:\n",
    "    print(row)"
   ]
  },
  {
   "cell_type": "markdown",
   "id": "80177334-f6c6-4754-923c-3449da4de123",
   "metadata": {},
   "source": [
    "#### The answer for Question 1 is Palau, established in 1994 as the youngest country."
   ]
  }
 ],
 "metadata": {
  "kernelspec": {
   "display_name": "Python 3 (ipykernel)",
   "language": "python",
   "name": "python3"
  },
  "language_info": {
   "codemirror_mode": {
    "name": "ipython",
    "version": 3
   },
   "file_extension": ".py",
   "mimetype": "text/x-python",
   "name": "python",
   "nbconvert_exporter": "python",
   "pygments_lexer": "ipython3",
   "version": "3.8.1"
  }
 },
 "nbformat": 4,
 "nbformat_minor": 5
}
