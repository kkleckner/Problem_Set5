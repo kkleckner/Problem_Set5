{
 "cells": [
  {
   "cell_type": "markdown",
   "id": "812bf2b7-b093-4457-93fd-8b1dee02d7e0",
   "metadata": {},
   "source": [
    "# Problem Set 5\n",
    "\n",
    "## Group Members: Kaylin Kleckner, Julia Bruner, Amanda Markee"
   ]
  },
  {
   "cell_type": "markdown",
   "id": "33ab5bda-33c5-43a4-b151-d1887692da07",
   "metadata": {},
   "source": [
    "### Problem 1"
   ]
  },
  {
   "cell_type": "code",
   "execution_count": null,
   "id": "7d0e8c9d-28ee-4111-ab87-c5d9300826a3",
   "metadata": {},
   "outputs": [],
   "source": []
  },
  {
   "cell_type": "markdown",
   "id": "7eae6575-0ddd-49f2-9ca5-9a33895dbbac",
   "metadata": {},
   "source": [
    "### Problem 4\n",
    "\n",
    "Using the LifeExpectancy data in the country table on the y-axis, plot this data against some other value.\n",
    "\n",
    "Suggestions for the x-axis: GNP, Population or IndepYear could be interesting, but up to you.\n",
    "I'd suggest using `SQLAlchemy`, get the data and make either a dataframe or numpy arrays and then use `matplotlib` to plot.\n"
   ]
  },
  {
   "cell_type": "markdown",
   "id": "f79a8585-dc8d-4e13-b39b-eb397a18f4c1",
   "metadata": {},
   "source": [
    "First, load in country table from `world.sqlite` database"
   ]
  },
  {
   "cell_type": "code",
   "execution_count": 44,
   "id": "acc062bf-555f-4ab1-b0b6-0c5f027bbb6e",
   "metadata": {},
   "outputs": [],
   "source": [
    "#!/usr/bin/env python\n",
    "from sqlalchemy import create_engine\n",
    "from sqlalchemy import MetaData\n",
    "from sqlalchemy import Table, Column\n",
    "from sqlalchemy import Integer, String\n",
    "from sqlalchemy import sql, select, join, desc\n",
    "from sqlalchemy import func\n",
    "\n",
    "# Create an Engine obect which is our handle into the database\n",
    "engine = create_engine('sqlite:////blue/bsc4452/kaylin.k/Class_Files/data/world.sqlite')\n",
    "\n",
    "# Connect to the database\n",
    "conn = engine.connect()\n",
    "\n",
    "# Read the metadata from the existing database.\n",
    "# Since the database already exists, and has tables defined, we can create Python objects based on these automatically.\n",
    "DBInfo = MetaData(engine)"
   ]
  },
  {
   "cell_type": "code",
   "execution_count": 43,
   "id": "9680e2c4-43d6-45e5-b88b-2a60d7bbf1a5",
   "metadata": {},
   "outputs": [],
   "source": [
    "# Auto-create the city object basedon the metadata read into the DBInfo.\n",
    "country=Table('country', DBInfo, autoload=True)"
   ]
  },
  {
   "cell_type": "code",
   "execution_count": 3,
   "id": "f306c07a-fe12-4ceb-924b-cbea1bf21923",
   "metadata": {},
   "outputs": [
    {
     "data": {
      "text/plain": [
       "sqlalchemy.sql.schema.Table"
      ]
     },
     "execution_count": 3,
     "metadata": {},
     "output_type": "execute_result"
    }
   ],
   "source": [
    "type(country) # Check table is loaded"
   ]
  },
  {
   "cell_type": "markdown",
   "id": "a5405528-cb55-49a1-bd46-35f82fb07ff5",
   "metadata": {},
   "source": [
    "I opened SQLite in the command line to see table structure. These were the commands used:\n",
    "\n",
    "`module load sqlite`\n",
    "`sqlite3 world.sqlite`\n",
    "`.tables`\n",
    "`.schema country`\n",
    "\n",
    "Next, I ran a test query with only 10 rows of the columns I wanted. "
   ]
  },
  {
   "cell_type": "code",
   "execution_count": 40,
   "id": "87ed3aa4-e970-4a18-8822-359ddb679c46",
   "metadata": {},
   "outputs": [
    {
     "name": "stdout",
     "output_type": "stream",
     "text": [
      "('ABW', 'Aruba', 'North America', Decimal('828.0000000000'), Decimal('78.4000000000'))\n",
      "('AFG', 'Afghanistan', 'Asia', Decimal('5976.0000000000'), Decimal('45.9000000000'))\n",
      "('AGO', 'Angola', 'Africa', Decimal('6648.0000000000'), Decimal('38.3000000000'))\n",
      "('AIA', 'Anguilla', 'North America', Decimal('63.2000000000'), Decimal('76.1000000000'))\n",
      "('ALB', 'Albania', 'Europe', Decimal('3205.0000000000'), Decimal('71.6000000000'))\n",
      "('AND', 'Andorra', 'Europe', Decimal('1630.0000000000'), Decimal('83.5000000000'))\n",
      "('ANT', 'Netherlands Antilles', 'North America', Decimal('1941.0000000000'), Decimal('74.7000000000'))\n",
      "('ARE', 'United Arab Emirates', 'Asia', Decimal('37966.0000000000'), Decimal('74.1000000000'))\n",
      "('ARG', 'Argentina', 'South America', Decimal('340238.0000000000'), Decimal('75.1000000000'))\n",
      "('ARM', 'Armenia', 'Asia', Decimal('1813.0000000000'), Decimal('66.4000000000'))\n"
     ]
    }
   ],
   "source": [
    "# Mirroring this command: SELECT Id, Name, Population FROM city LIMIT 10;\n",
    "# city.c.ID where city = object, c = column, and ID = column name\n",
    "query = select([country.c.Code, country.c.Name, country.c.Continent, country.c.GNP, country.c.LifeExpectancy]).limit(10)\n",
    "result = conn.execute(query)\n",
    "for row in result:\n",
    "    print(row)"
   ]
  },
  {
   "cell_type": "markdown",
   "id": "4027f597-66f0-4947-9a3c-48cb674a47e2",
   "metadata": {},
   "source": [
    "After confirming query structure, I ran a second query with all rows."
   ]
  },
  {
   "cell_type": "code",
   "execution_count": 11,
   "id": "cdcd4d30-f7bd-46e7-80e3-36fd5530b689",
   "metadata": {},
   "outputs": [],
   "source": [
    "query2 = select([country.c.Code, country.c.Name, country.c.Continent, country.c.GNP, country.c.LifeExpectancy])\n",
    "result2 = conn.execute(query)\n",
    "#don't print using for loop, too many rows"
   ]
  },
  {
   "cell_type": "markdown",
   "id": "a5848ca1-0ac3-4a3b-b79a-a090526c97b6",
   "metadata": {},
   "source": [
    "I converted the query into a dataframe."
   ]
  },
  {
   "cell_type": "code",
   "execution_count": 12,
   "id": "8ae1ac4a-9817-4fa0-b65d-73f1d4f43830",
   "metadata": {},
   "outputs": [
    {
     "data": {
      "text/html": [
       "<div>\n",
       "<style scoped>\n",
       "    .dataframe tbody tr th:only-of-type {\n",
       "        vertical-align: middle;\n",
       "    }\n",
       "\n",
       "    .dataframe tbody tr th {\n",
       "        vertical-align: top;\n",
       "    }\n",
       "\n",
       "    .dataframe thead th {\n",
       "        text-align: right;\n",
       "    }\n",
       "</style>\n",
       "<table border=\"1\" class=\"dataframe\">\n",
       "  <thead>\n",
       "    <tr style=\"text-align: right;\">\n",
       "      <th></th>\n",
       "      <th>Code</th>\n",
       "      <th>Name</th>\n",
       "      <th>Continent</th>\n",
       "      <th>GNP</th>\n",
       "      <th>LifeExpectancy</th>\n",
       "    </tr>\n",
       "  </thead>\n",
       "  <tbody>\n",
       "    <tr>\n",
       "      <th>0</th>\n",
       "      <td>ABW</td>\n",
       "      <td>Aruba</td>\n",
       "      <td>North America</td>\n",
       "      <td>828.0</td>\n",
       "      <td>78.4</td>\n",
       "    </tr>\n",
       "    <tr>\n",
       "      <th>1</th>\n",
       "      <td>AFG</td>\n",
       "      <td>Afghanistan</td>\n",
       "      <td>Asia</td>\n",
       "      <td>5976.0</td>\n",
       "      <td>45.9</td>\n",
       "    </tr>\n",
       "    <tr>\n",
       "      <th>2</th>\n",
       "      <td>AGO</td>\n",
       "      <td>Angola</td>\n",
       "      <td>Africa</td>\n",
       "      <td>6648.0</td>\n",
       "      <td>38.3</td>\n",
       "    </tr>\n",
       "    <tr>\n",
       "      <th>3</th>\n",
       "      <td>AIA</td>\n",
       "      <td>Anguilla</td>\n",
       "      <td>North America</td>\n",
       "      <td>63.2</td>\n",
       "      <td>76.1</td>\n",
       "    </tr>\n",
       "    <tr>\n",
       "      <th>4</th>\n",
       "      <td>ALB</td>\n",
       "      <td>Albania</td>\n",
       "      <td>Europe</td>\n",
       "      <td>3205.0</td>\n",
       "      <td>71.6</td>\n",
       "    </tr>\n",
       "  </tbody>\n",
       "</table>\n",
       "</div>"
      ],
      "text/plain": [
       "  Code         Name      Continent     GNP  LifeExpectancy\n",
       "0  ABW        Aruba  North America   828.0            78.4\n",
       "1  AFG  Afghanistan           Asia  5976.0            45.9\n",
       "2  AGO       Angola         Africa  6648.0            38.3\n",
       "3  AIA     Anguilla  North America    63.2            76.1\n",
       "4  ALB      Albania         Europe  3205.0            71.6"
      ]
     },
     "execution_count": 12,
     "metadata": {},
     "output_type": "execute_result"
    }
   ],
   "source": [
    "import pandas as pd #load pandas module\n",
    "\n",
    "df=pd.read_sql(query2, conn) #create dataframe from query2 above\n",
    "\n",
    "df.head() #check dataframe structure "
   ]
  },
  {
   "cell_type": "markdown",
   "id": "063e4bad-a64c-4987-9a1e-ae77d331cce3",
   "metadata": {},
   "source": [
    "Lastly, I graphed average life expectancy by continent with the `plotnine` module."
   ]
  },
  {
   "cell_type": "code",
   "execution_count": 41,
   "id": "92d9a927-d356-434d-b191-dfebdb95b345",
   "metadata": {},
   "outputs": [
    {
     "name": "stderr",
     "output_type": "stream",
     "text": [
      "/apps/python/3.10/lib/python3.10/site-packages/plotnine/layer.py:334: PlotnineWarning: stat_boxplot : Removed 17 rows containing non-finite values.\n",
      "/apps/python/3.10/lib/python3.10/site-packages/plotnine/layer.py:412: PlotnineWarning: geom_jitter : Removed 17 rows containing missing values.\n"
     ]
    },
    {
     "data": {
      "image/png": "[encoded data removed]",
      "text/plain": [
       "<Figure size 640x480 with 1 Axes>"
      ]
     },
     "metadata": {},
     "output_type": "display_data"
    },
    {
     "data": {
      "text/plain": [
       "<ggplot: (2935564235650)>"
      ]
     },
     "execution_count": 41,
     "metadata": {},
     "output_type": "execute_result"
    }
   ],
   "source": [
    "import plotnine as pn #load plotnine module. we love ggplot2 :,)\n",
    "\n",
    "(\n",
    "    pn.ggplot(df) #assign dataframe\n",
    "    + pn.aes(x=\"Continent\", y=\"LifeExpectancy\", color=\"Continent\") #Set axis values and color\n",
    "    + pn.geom_jitter(alpha = 0.4) #Show raw data points behind boxplots. Adjust transparency with alpha value\n",
    "    + pn.geom_boxplot() #create boxplots\n",
    "    + pn.theme_bw() #clean up graph with black and white theme\n",
    ")"
   ]
  },
  {
   "cell_type": "code",
   "execution_count": null,
   "id": "7fb279f0-7b48-444f-889f-9b65cc4405b3",
   "metadata": {},
   "outputs": [],
   "source": []
  }
 ],
 "metadata": {
  "kernelspec": {
   "display_name": "UFRC Python-3.10",
   "language": "python",
   "name": "python3-3.10-ufrc"
  },
  "language_info": {
   "codemirror_mode": {
    "name": "ipython",
    "version": 3
   },
   "file_extension": ".py",
   "mimetype": "text/x-python",
   "name": "python",
   "nbconvert_exporter": "python",
   "pygments_lexer": "ipython3",
   "version": "3.10.5"
  }
 },
 "nbformat": 4,
 "nbformat_minor": 5
}
