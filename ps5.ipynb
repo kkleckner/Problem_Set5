{
 "cells": [
  {
   "cell_type": "markdown",
   "id": "812bf2b7-b093-4457-93fd-8b1dee02d7e0",
   "metadata": {},
   "source": [
    "# Problem Set 5\n",
    "\n",
    "## Group Members: Kaylin Kleckner, Julia Bruner, Amanda Markee"
   ]
  },
  {
   "cell_type": "markdown",
   "id": "33ab5bda-33c5-43a4-b151-d1887692da07",
   "metadata": {},
   "source": [
    "### Problem 1"
   ]
  },
  {
   "cell_type": "code",
   "execution_count": null,
   "id": "7d0e8c9d-28ee-4111-ab87-c5d9300826a3",
   "metadata": {},
   "outputs": [],
   "source": []
  },
  {
   "cell_type": "markdown",
   "id": "7eae6575-0ddd-49f2-9ca5-9a33895dbbac",
   "metadata": {},
   "source": [
    "### Problem 4\n",
    "\n",
    "Using the LifeExpectancy data in the country table on the y-axis, plot this data against some other value.\n",
    "\n",
    "Suggestions for the x-axis: GNP, Population or IndepYear could be interesting, but up to you.\n",
    "I'd suggest using `SQLAlchemy`, get the data and make either a dataframe or numpy arrays and then use `matplotlib` to plot.\n"
   ]
  },
  {
   "cell_type": "code",
   "execution_count": null,
   "id": "acc062bf-555f-4ab1-b0b6-0c5f027bbb6e",
   "metadata": {},
   "outputs": [],
   "source": []
  }
 ],
 "metadata": {
  "kernelspec": {
   "display_name": "UFRC Python-3.10",
   "language": "python",
   "name": "python3-3.10-ufrc"
  },
  "language_info": {
   "codemirror_mode": {
    "name": "ipython",
    "version": 3
   },
   "file_extension": ".py",
   "mimetype": "text/x-python",
   "name": "python",
   "nbconvert_exporter": "python",
   "pygments_lexer": "ipython3",
   "version": "3.10.5"
  }
 },
 "nbformat": 4,
 "nbformat_minor": 5
}
