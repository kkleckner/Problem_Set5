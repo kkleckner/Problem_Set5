{
 "cells": [
  {
   "cell_type": "markdown",
   "id": "6306c34d-1c42-4331-8f78-7997f3a17f50",
   "metadata": {},
   "source": [
    "# Problem Set 5\n",
    "\n",
    "For this problem set (Due Dec. 6th, 2022), we will be using world.sqlite to answer these questions. The database can be found at the following path on HiPerGator:\n",
    "```\n",
    "/blue/bsc4452/share/Class_Files/data/world.sqlite\n",
    "```"
   ]
  },
  {
   "cell_type": "markdown",
   "id": "3494e48c-191d-4aea-97fa-7bcb126affd9",
   "metadata": {},
   "source": [
    "### Group Members\n",
    "- Amanda Markee\n",
    "- Julia Bruner\n",
    "- Kaylin Kleckner"
   ]
  },
  {
   "cell_type": "markdown",
   "id": "89d0ef42-5bd9-4999-b05d-65869e5fc839",
   "metadata": {},
   "source": [
    "## Question 1 (Amanda)\n",
    "\n",
    "What is the country with the latest year (most recent) of independence? The code can either be SQL or SQLAlchemy code.\n",
    "\n",
    "- Provide your answer (2 points) \n",
    "- Provide the code used to get that answer (3 points)"
   ]
  },
  {
   "cell_type": "code",
   "execution_count": 7,
   "id": "13413e54-3b29-49cd-820d-91894d941dc1",
   "metadata": {},
   "outputs": [],
   "source": [
    "#!/usr/bin/env python\n",
    "from sqlalchemy import create_engine\n",
    "from sqlalchemy import MetaData\n",
    "from sqlalchemy import Table, Column\n",
    "from sqlalchemy import Integer, String\n",
    "from sqlalchemy import sql, select, join, desc\n",
    "from sqlalchemy import func\n",
    "\n",
    "# Create an Engine obect which is our handle into the database\n",
    "engine = create_engine('sqlite:////blue/bsc4452/amanda.markee/Class_Files/data/world.sqlite')\n",
    "\n",
    "# Connect to the database\n",
    "conn = engine.connect()\n",
    "\n",
    "# Read the metadata from the existing database.\n",
    "# Since the database already exists, and has tables defined, we can create Python objects based on these automatically.\n",
    "DBInfo = MetaData(engine)"
   ]
  },
  {
   "cell_type": "code",
   "execution_count": 8,
   "id": "cce29272-d78f-4edc-bca2-497cc31914db",
   "metadata": {},
   "outputs": [],
   "source": [
    "# Auto-create the city object basedon the metadata read into the DBInfo.\n",
    "city=Table('city', DBInfo, autoload=True)"
   ]
  },
  {
   "cell_type": "code",
   "execution_count": 9,
   "id": "a6b0e811-d41a-40e2-b570-56bf5d6f8b33",
   "metadata": {},
   "outputs": [
    {
     "data": {
      "text/plain": [
       "sqlalchemy.sql.schema.Table"
      ]
     },
     "execution_count": 9,
     "metadata": {},
     "output_type": "execute_result"
    }
   ],
   "source": [
    "type(city) # Not a dataframe, but a SQLalchemy schema table"
   ]
  },
  {
   "cell_type": "code",
   "execution_count": 10,
   "id": "a740512a-325b-4abb-b195-d8ac06c89057",
   "metadata": {},
   "outputs": [
    {
     "name": "stdout",
     "output_type": "stream",
     "text": [
      "(1, 'Kabul', 1780000)\n",
      "(2, 'Qandahar', 237500)\n",
      "(3, 'Herat', 186800)\n",
      "(4, 'Mazar-e-Sharif', 127800)\n",
      "(6, 'Rotterdam', 593321)\n",
      "(7, 'Haag', 440900)\n",
      "(8, 'Utrecht', 234323)\n",
      "(9, 'Eindhoven', 201843)\n",
      "(10, 'Tilburg', 193238)\n",
      "(11, 'Groningen', 172701)\n"
     ]
    }
   ],
   "source": [
    "# Mirroring this command: SELECT Id, Name, Population FROM city LIMIT 10;\n",
    "# city.c.ID where city = object, c = column, and ID = column name\n",
    "query = select([city.c.ID, city.c.Name, city.c.Population]).limit(10)\n",
    "result = conn.execute(query)\n",
    "for row in result:\n",
    "    print(row)"
   ]
  },
  {
   "cell_type": "code",
   "execution_count": 11,
   "id": "6e52aefc-f321-4545-9c22-f468f94254ef",
   "metadata": {},
   "outputs": [],
   "source": [
    "# Using the code above for guidence, I want to start building a table for country-specific information\n",
    "country=Table('country', DBInfo, autoload=True)"
   ]
  },
  {
   "cell_type": "code",
   "execution_count": 12,
   "id": "5d114107-4ea5-4a92-9d9b-0db926a91cda",
   "metadata": {},
   "outputs": [
    {
     "name": "stdout",
     "output_type": "stream",
     "text": [
      "('Palau', 1994)\n",
      "('Czech Republic', 1993)\n",
      "('Eritrea', 1993)\n",
      "('Slovakia', 1993)\n",
      "('Bosnia and Herzegovina', 1992)\n",
      "('Armenia', 1991)\n",
      "('Azerbaijan', 1991)\n",
      "('Belarus', 1991)\n",
      "('Estonia', 1991)\n",
      "('Georgia', 1991)\n"
     ]
    }
   ],
   "source": [
    "# Using the above code for guidence, I want to query the country with their independence year.\n",
    "# Lastly, I want to print the independence years in descending order to find the youngest country.\n",
    "\n",
    "query_ind = select([country.c.Name,country.c.IndepYear]).where(country.c.IndepYear is not None).order_by(desc(country.c.IndepYear)).limit(10)\n",
    "\n",
    "result = conn.execute(query_ind)\n",
    "for row in result:\n",
    "    print(row)"
   ]
  },
  {
   "cell_type": "markdown",
   "id": "0eeb0707-e34a-434a-85a2-b0d923778422",
   "metadata": {},
   "source": [
    "#### The answer for Question 1 is Palau, established in 1994 as the youngest country."
   ]
  },
  {
   "cell_type": "markdown",
   "id": "a6a2fc7e-3d84-443f-9406-c4df8b43f77e",
   "metadata": {},
   "source": [
    "## Question 2 (Julia)\n",
    "\n",
    "Refer to this page: https://www.statista.com/chart/11430/the-worlds-youngest-countries/Links to an external site. According to this, there are several countries that have become independent since the country in your answer to question 1. Pick one of those newer countries and using Wikipedia, or another source, add as much data to the `country` table as you can for that country. Provide either a SQL INSERT statement or a SQLAlchemy insert statement to add the data for a new country into the database.\n",
    "\n"
   ]
  },
  {
   "cell_type": "code",
   "execution_count": 13,
   "id": "8026d037-4ca2-45c6-914c-0dec052736a8",
   "metadata": {},
   "outputs": [],
   "source": [
    "# import functions from sqlalchemy\n",
    "from sqlalchemy import create_engine\n",
    "from sqlalchemy import MetaData\n",
    "from sqlalchemy import Table, Column\n",
    "from sqlalchemy import Integer, String\n",
    "from sqlalchemy import sql, select, join, desc"
   ]
  },
  {
   "cell_type": "code",
   "execution_count": 14,
   "id": "8fad3d50-4f76-45d9-8fa8-1b1a0a7bd41a",
   "metadata": {},
   "outputs": [],
   "source": [
    "# Create a engine/handle into the database.\n",
    "engine = create_engine('sqlite:////blue/bsc4452/juliabruner/world.sqlite')\n",
    "\n",
    "# Connect to the database\n",
    "conn = engine.connect()\n",
    "\n",
    "# Read the metadata from the existing database.\n",
    "#  Since the database already exists and has tables defined, we can create Python objects based on these automatically.\n",
    "DBInfo=MetaData(engine)"
   ]
  },
  {
   "cell_type": "code",
   "execution_count": 15,
   "id": "9e96e0b9-9ce7-4e7d-be97-9148904955ab",
   "metadata": {},
   "outputs": [],
   "source": [
    "# Auto-create the tables based on the metadata read into the DBInfo.\n",
    "\n",
    "city=Table('city', DBInfo, autoload=True)\n",
    "\n",
    "country=Table('country', DBInfo, autoload=True)\n",
    "\n",
    "countrylanguage=Table('countrylanguage', DBInfo, autoload=True)"
   ]
  },
  {
   "cell_type": "code",
   "execution_count": 16,
   "id": "d8ed271b-e04b-4bbe-a5f7-58026e86110d",
   "metadata": {},
   "outputs": [
    {
     "name": "stdout",
     "output_type": "stream",
     "text": [
      "INSERT INTO country (\"Code\", \"Name\", \"Continent\", \"Region\", \"SurfaceArea\", \"IndepYear\", \"Population\", \"LifeExpectancy\", \"GNP\", \"GNPOld\", \"LocalName\", \"GovernmentForm\", \"HeadOfState\", \"Capital\", \"Code2\") VALUES (?, ?, ?, ?, ?, ?, ?, ?, ?, ?, ?, ?, ?, ?, ?)\n"
     ]
    }
   ],
   "source": [
    "# define values needed to insert country\n",
    "print(country.insert())"
   ]
  },
  {
   "cell_type": "code",
   "execution_count": 17,
   "id": "fbd84736-9230-4a99-aabd-31934641c8b6",
   "metadata": {},
   "outputs": [],
   "source": [
    "# providing the information for inserting south sudan as a country\n",
    "# my_insert=country.insert().values(Code='SSD', Name='South Sudan', Continent='Africa', Region='Central', SurfaceArea=248777, \n",
    "#                               IndepYear=2011, Population=11380000, LifeExpectancy=58, GNP=11600000000, GNPOld=0,\n",
    "#                               LocalName='South Sudan', GovernmentForm='Presidential Republic', HeadOfState='Salva Kiir Mayardit',\n",
    "#                               Capital='Juba', Code2='')"
   ]
  },
  {
   "cell_type": "code",
   "execution_count": 6,
   "id": "29e38b31-2dd8-48e0-b198-28a46d162f90",
   "metadata": {},
   "outputs": [],
   "source": [
    "# execute the insert \n",
    "# result = conn.execute(my_insert)"
   ]
  },
  {
   "cell_type": "markdown",
   "id": "1a55c4ac-879e-40db-8c86-f10662881733",
   "metadata": {},
   "source": [
    "### NOTE: \n",
    "The 2 cells above are commented out to prevent an error from displaying. The error is related to the foreign key which dicates that the country code must be unique. Since I already ran the code to insert South as SSD, the cell cannot be run again without giving an error. Instead please refer to the output of the cell below to verify proper country insert. "
   ]
  },
  {
   "cell_type": "code",
   "execution_count": 18,
   "id": "8eba0aa2-dd7b-476f-9517-ebe24f173ec9",
   "metadata": {},
   "outputs": [
    {
     "name": "stdout",
     "output_type": "stream",
     "text": [
      "('South Sudan', 'Juba', 2011, 'Salva Kiir Mayardit')\n"
     ]
    }
   ],
   "source": [
    "# checking that data for South Sudan was sucessfully inserted into the Country Table \n",
    "query=select([country.c.Name, country.c.Capital, country.c.IndepYear, country.c.HeadOfState]).where(country.c.Name=='South Sudan')\n",
    "result = conn.execute(query)\n",
    "for row in result:\n",
    "    print(row)\n",
    "\n",
    "    \n",
    "# checking that data for South Sudan was sucessfully inserted into the Country Table "
   ]
  },
  {
   "cell_type": "markdown",
   "id": "1340bcfa-d9da-4da6-b563-3c6f28adbb4d",
   "metadata": {},
   "source": [
    "## Question 3 (Julia)\n",
    "\n",
    "For the country added in question 2, find 2 cities to add to the `cities` table of the database and provide the SQL or SQLAlchemy insert statement to add this data."
   ]
  },
  {
   "cell_type": "code",
   "execution_count": 19,
   "id": "62b544b3-514a-4212-acb2-d4701539680e",
   "metadata": {},
   "outputs": [
    {
     "name": "stdout",
     "output_type": "stream",
     "text": [
      "INSERT INTO city (\"ID\", \"Name\", \"CountryCode\", \"District\", \"Population\") VALUES (?, ?, ?, ?, ?)\n"
     ]
    }
   ],
   "source": [
    "# define the values you need to insert \n",
    "print(city.insert())"
   ]
  },
  {
   "cell_type": "code",
   "execution_count": 20,
   "id": "2d069ec7-4dcc-46d1-ae0a-dbad3c75fb93",
   "metadata": {},
   "outputs": [
    {
     "name": "stdout",
     "output_type": "stream",
     "text": [
      "INSERT INTO city (\"Name\", \"CountryCode\", \"District\", \"Population\") VALUES (?, ?, ?, ?)\n"
     ]
    }
   ],
   "source": [
    "my_insert=city.insert().values(Name='Juba', CountryCode='SSD',District='Central Equatoria',Population=525953)\n",
    "print(my_insert)"
   ]
  },
  {
   "cell_type": "code",
   "execution_count": 10,
   "id": "0c46efe9-5ebf-4a52-99ef-19130fc2a3fe",
   "metadata": {},
   "outputs": [],
   "source": [
    "#result = conn.execute(my_insert)\n",
    "    #coded out to avoid error, see note in q2"
   ]
  },
  {
   "cell_type": "code",
   "execution_count": 21,
   "id": "946bc999-9273-46aa-8984-332c4eccbc15",
   "metadata": {},
   "outputs": [
    {
     "name": "stdout",
     "output_type": "stream",
     "text": [
      "(3235, 'Juba', 'Bahr al-Jabal', 114980)\n",
      "(1234568, 'Juba', 'Central Equatoria', 525953)\n",
      "(1234569, 'Juba', 'Central Equatoria', 525953)\n",
      "(1234571, 'Juba', 'Central Equatoria', 525953)\n",
      "(1234573, 'Juba', 'Central Equatoria', 525953)\n"
     ]
    }
   ],
   "source": [
    "query=select([city.c.ID, city.c.Name, city.c.District, city.c.Population]).where(city.c.Name.like('Juba'))\n",
    "result = conn.execute(query)\n",
    "for row in result:\n",
    "    print(row)\n",
    "#checking that Juba was inserted into the city table "
   ]
  },
  {
   "cell_type": "code",
   "execution_count": 22,
   "id": "3ebb9735-25df-45c6-925c-95e135fef627",
   "metadata": {},
   "outputs": [
    {
     "name": "stdout",
     "output_type": "stream",
     "text": [
      "INSERT INTO city (\"Name\", \"CountryCode\", \"District\", \"Population\") VALUES (?, ?, ?, ?)\n"
     ]
    }
   ],
   "source": [
    "# adding the second city, Malakal\n",
    "my_insert=city.insert().values(Name='Malakal', CountryCode='SSD',District='Upper Nile State',Population=147450)\n",
    "print(my_insert)"
   ]
  },
  {
   "cell_type": "code",
   "execution_count": 25,
   "id": "67bd0e1b-0be5-4293-8c29-c96184bbc0cf",
   "metadata": {},
   "outputs": [],
   "source": [
    "#result = conn.execute(my_insert)\n",
    "    #coded out to avoid error, see note in q2"
   ]
  },
  {
   "cell_type": "code",
   "execution_count": 23,
   "id": "5a14471b-cb0d-464d-9298-bddea55bbf72",
   "metadata": {},
   "outputs": [
    {
     "name": "stdout",
     "output_type": "stream",
     "text": [
      "(1234570, 'Malakal', 'Upper Nile State', 147450)\n",
      "(1234572, 'Malakal', 'Upper Nile State', 147450)\n",
      "(1234574, 'Malakal', 'Upper Nile State', 147450)\n"
     ]
    }
   ],
   "source": [
    "query=select([city.c.ID, city.c.Name, city.c.District, city.c.Population]).where(city.c.Name.like('Malakal'))\n",
    "result = conn.execute(query)\n",
    "for row in result:\n",
    "    print(row)\n",
    "    \n",
    "# checking that Malakal was inserted into the city table "
   ]
  },
  {
   "cell_type": "markdown",
   "id": "61f0b99f-d155-4b19-a073-c2728f314d1d",
   "metadata": {},
   "source": [
    "## Question 4 (Kaylin)\n",
    "\n",
    "Using the LifeExpectancy data in the country table on the y-axis, plot this data against some other value.\n",
    "\n",
    "Suggestions for the x-axis: GNP, Population or IndepYear could be interesting, but up to you.\n",
    "I'd suggest using `SQLAlchemy`, get the data and make either a dataframe or numpy arrays and then use `matplotlib` to plot.\n",
    "\n",
    "###"
   ]
  },
  {
   "cell_type": "markdown",
   "id": "0bdc9e1e-462e-468d-82af-e4aea7c1e57b",
   "metadata": {},
   "source": [
    "\n",
    "\n",
    "First, load in country table from `world.sqlite` database"
   ]
  },
  {
   "cell_type": "code",
   "execution_count": 24,
   "id": "0749d8b5-eb67-40da-a120-8c48ba6a4865",
   "metadata": {},
   "outputs": [],
   "source": [
    "#!/usr/bin/env python\n",
    "from sqlalchemy import create_engine\n",
    "from sqlalchemy import MetaData\n",
    "from sqlalchemy import Table, Column\n",
    "from sqlalchemy import Integer, String\n",
    "from sqlalchemy import sql, select, join, desc\n",
    "from sqlalchemy import func\n",
    "\n",
    "# Create an Engine obect which is our handle into the database\n",
    "engine = create_engine('sqlite:////blue/bsc4452/kaylin.kleckner/Class_Files/data/world.sqlite')\n",
    "\n",
    "# Connect to the database\n",
    "conn = engine.connect()\n",
    "\n",
    "# Read the metadata from the existing database.\n",
    "# Since the database already exists, and has tables defined, we can create Python objects based on these automatically.\n",
    "DBInfo = MetaData(engine)"
   ]
  },
  {
   "cell_type": "code",
   "execution_count": 25,
   "id": "36b90529-aecc-48fd-90db-a6a6749752e1",
   "metadata": {},
   "outputs": [],
   "source": [
    "# Auto-create the city object basedon the metadata read into the DBInfo.\n",
    "country=Table('country', DBInfo, autoload=True)"
   ]
  },
  {
   "cell_type": "code",
   "execution_count": 26,
   "id": "e6b32ef0-b341-4332-a413-9500e2943df9",
   "metadata": {},
   "outputs": [
    {
     "data": {
      "text/plain": [
       "sqlalchemy.sql.schema.Table"
      ]
     },
     "execution_count": 26,
     "metadata": {},
     "output_type": "execute_result"
    }
   ],
   "source": [
    "type(country) # Check table is loaded"
   ]
  },
  {
   "cell_type": "markdown",
   "id": "d4506e91-3e08-4043-9bfd-95e6bfae14a2",
   "metadata": {},
   "source": [
    "### Note:\n",
    "\n",
    "I opened SQLite in the command line to see table structure. These were the commands used:\n",
    "\n",
    "`module load sqlite`\n",
    "\n",
    "`sqlite3 world.sqlite`\n",
    "\n",
    "`.tables`\n",
    "\n",
    "`.schema country`\n",
    "\n",
    "\n",
    "Next, I ran a test query with only 10 rows of the columns I wanted. "
   ]
  },
  {
   "cell_type": "code",
   "execution_count": 27,
   "id": "5fd7d86d-23d8-4978-8ca3-548a071cbd5e",
   "metadata": {},
   "outputs": [
    {
     "name": "stdout",
     "output_type": "stream",
     "text": [
      "('ABW', 'Aruba', 'North America', Decimal('828.0000000000'), Decimal('78.4000000000'))\n",
      "('AFG', 'Afghanistan', 'Asia', Decimal('5976.0000000000'), Decimal('45.9000000000'))\n",
      "('AGO', 'Angola', 'Africa', Decimal('6648.0000000000'), Decimal('38.3000000000'))\n",
      "('AIA', 'Anguilla', 'North America', Decimal('63.2000000000'), Decimal('76.1000000000'))\n",
      "('ALB', 'Albania', 'Europe', Decimal('3205.0000000000'), Decimal('71.6000000000'))\n",
      "('AND', 'Andorra', 'Europe', Decimal('1630.0000000000'), Decimal('83.5000000000'))\n",
      "('ANT', 'Netherlands Antilles', 'North America', Decimal('1941.0000000000'), Decimal('74.7000000000'))\n",
      "('ARE', 'United Arab Emirates', 'Asia', Decimal('37966.0000000000'), Decimal('74.1000000000'))\n",
      "('ARG', 'Argentina', 'South America', Decimal('340238.0000000000'), Decimal('75.1000000000'))\n",
      "('ARM', 'Armenia', 'Asia', Decimal('1813.0000000000'), Decimal('66.4000000000'))\n"
     ]
    }
   ],
   "source": [
    "# Mirroring this command: SELECT Id, Name, Population FROM city LIMIT 10;\n",
    "# city.c.ID where city = object, c = column, and ID = column name\n",
    "query = select([country.c.Code, country.c.Name, country.c.Continent, country.c.GNP, country.c.LifeExpectancy]).limit(10)\n",
    "result = conn.execute(query)\n",
    "for row in result:\n",
    "    print(row)"
   ]
  },
  {
   "cell_type": "markdown",
   "id": "88ca3363-3684-4fe5-a7b3-7b9d12b5802e",
   "metadata": {},
   "source": [
    "After confirming query structure, I ran a second query with all rows."
   ]
  },
  {
   "cell_type": "code",
   "execution_count": 28,
   "id": "04aaee36-4ff8-4a9a-a9d6-30bf14bb7760",
   "metadata": {},
   "outputs": [],
   "source": [
    "query2 = select([country.c.Code, country.c.Name, country.c.Continent, country.c.GNP, country.c.LifeExpectancy])\n",
    "result2 = conn.execute(query)\n",
    "#don't print using for loop, too many rows"
   ]
  },
  {
   "cell_type": "markdown",
   "id": "47375f4a-d9ca-4cd0-8c38-2d9a2461c1d4",
   "metadata": {},
   "source": [
    "I converted the query into a dataframe."
   ]
  },
  {
   "cell_type": "code",
   "execution_count": 29,
   "id": "0d8e6e47-a3db-4b1d-acb7-813f4f1a64ee",
   "metadata": {},
   "outputs": [
    {
     "data": {
      "text/html": [
       "<div>\n",
       "<style scoped>\n",
       "    .dataframe tbody tr th:only-of-type {\n",
       "        vertical-align: middle;\n",
       "    }\n",
       "\n",
       "    .dataframe tbody tr th {\n",
       "        vertical-align: top;\n",
       "    }\n",
       "\n",
       "    .dataframe thead th {\n",
       "        text-align: right;\n",
       "    }\n",
       "</style>\n",
       "<table border=\"1\" class=\"dataframe\">\n",
       "  <thead>\n",
       "    <tr style=\"text-align: right;\">\n",
       "      <th></th>\n",
       "      <th>Code</th>\n",
       "      <th>Name</th>\n",
       "      <th>Continent</th>\n",
       "      <th>GNP</th>\n",
       "      <th>LifeExpectancy</th>\n",
       "    </tr>\n",
       "  </thead>\n",
       "  <tbody>\n",
       "    <tr>\n",
       "      <th>0</th>\n",
       "      <td>ABW</td>\n",
       "      <td>Aruba</td>\n",
       "      <td>North America</td>\n",
       "      <td>828.0</td>\n",
       "      <td>78.4</td>\n",
       "    </tr>\n",
       "    <tr>\n",
       "      <th>1</th>\n",
       "      <td>AFG</td>\n",
       "      <td>Afghanistan</td>\n",
       "      <td>Asia</td>\n",
       "      <td>5976.0</td>\n",
       "      <td>45.9</td>\n",
       "    </tr>\n",
       "    <tr>\n",
       "      <th>2</th>\n",
       "      <td>AGO</td>\n",
       "      <td>Angola</td>\n",
       "      <td>Africa</td>\n",
       "      <td>6648.0</td>\n",
       "      <td>38.3</td>\n",
       "    </tr>\n",
       "    <tr>\n",
       "      <th>3</th>\n",
       "      <td>AIA</td>\n",
       "      <td>Anguilla</td>\n",
       "      <td>North America</td>\n",
       "      <td>63.2</td>\n",
       "      <td>76.1</td>\n",
       "    </tr>\n",
       "    <tr>\n",
       "      <th>4</th>\n",
       "      <td>ALB</td>\n",
       "      <td>Albania</td>\n",
       "      <td>Europe</td>\n",
       "      <td>3205.0</td>\n",
       "      <td>71.6</td>\n",
       "    </tr>\n",
       "  </tbody>\n",
       "</table>\n",
       "</div>"
      ],
      "text/plain": [
       "  Code         Name      Continent     GNP  LifeExpectancy\n",
       "0  ABW        Aruba  North America   828.0            78.4\n",
       "1  AFG  Afghanistan           Asia  5976.0            45.9\n",
       "2  AGO       Angola         Africa  6648.0            38.3\n",
       "3  AIA     Anguilla  North America    63.2            76.1\n",
       "4  ALB      Albania         Europe  3205.0            71.6"
      ]
     },
     "execution_count": 29,
     "metadata": {},
     "output_type": "execute_result"
    }
   ],
   "source": [
    "import pandas as pd #load pandas module\n",
    "\n",
    "df=pd.read_sql(query2, conn) #create dataframe from query2 above\n",
    "\n",
    "df.head() #check dataframe structure "
   ]
  },
  {
   "cell_type": "markdown",
   "id": "55ef9070-e90a-4168-b1d5-72e4fb10e134",
   "metadata": {},
   "source": [
    "Lastly, I graphed average life expectancy by continent with the `plotnine` module."
   ]
  },
  {
   "cell_type": "code",
   "execution_count": 53,
   "id": "c3aa79ab-7505-4230-8d30-2ab28386456e",
   "metadata": {},
   "outputs": [
    {
     "name": "stderr",
     "output_type": "stream",
     "text": [
      "/apps/python/3.10/lib/python3.10/site-packages/plotnine/layer.py:334: PlotnineWarning: stat_boxplot : Removed 17 rows containing non-finite values.\n",
      "/apps/python/3.10/lib/python3.10/site-packages/plotnine/layer.py:412: PlotnineWarning: geom_jitter : Removed 17 rows containing missing values.\n"
     ]
    },
    {
     "data": {
      "image/png": "[encoded data removed]",
      "text/plain": [
       "<Figure size 640x480 with 1 Axes>"
      ]
     },
     "metadata": {},
     "output_type": "display_data"
    },
    {
     "data": {
      "text/plain": [
       "<ggplot: (2949091980427)>"
      ]
     },
     "execution_count": 53,
     "metadata": {},
     "output_type": "execute_result"
    }
   ],
   "source": [
    "import plotnine as pn #load plotnine module. we love ggplot2 :,)\n",
    "\n",
    "(\n",
    "    pn.ggplot(df) #assign dataframe\n",
    "    + pn.aes(x=\"Continent\", y=\"LifeExpectancy\", color=\"Continent\") #Set axis values and color\n",
    "    + pn.geom_jitter(alpha = 0.4) #Show raw data points behind boxplots. Adjust transparency with alpha value\n",
    "    + pn.geom_boxplot() #create boxplots\n",
    "    + pn.ylab('Average Life Expectancy (years)')\n",
    "    + pn.theme_bw() #clean up graph with black and white theme\n",
    "    + pn.theme(axis_text_x=pn.element_text(angle=45, hjust =1)) #clean up graph with black and white theme\n",
    ")"
   ]
  },
  {
   "cell_type": "code",
   "execution_count": null,
   "id": "290c9668-df24-4fed-a475-9aca5a24bb9e",
   "metadata": {},
   "outputs": [],
   "source": []
  }
 ],
 "metadata": {
  "kernelspec": {
   "display_name": "UFRC Python-3.10",
   "language": "python",
   "name": "python3-3.10-ufrc"
  },
  "language_info": {
   "codemirror_mode": {
    "name": "ipython",
    "version": 3
   },
   "file_extension": ".py",
   "mimetype": "text/x-python",
   "name": "python",
   "nbconvert_exporter": "python",
   "pygments_lexer": "ipython3",
   "version": "3.10.5"
  }
 },
 "nbformat": 4,
 "nbformat_minor": 5
}
