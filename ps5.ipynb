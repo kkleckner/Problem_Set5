{
 "cells": [
  {
   "cell_type": "markdown",
   "id": "6306c34d-1c42-4331-8f78-7997f3a17f50",
   "metadata": {},
   "source": [
    "# Question 2"
   ]
  },
  {
   "cell_type": "code",
   "execution_count": null,
   "id": "d8ed271b-e04b-4bbe-a5f7-58026e86110d",
   "metadata": {},
   "outputs": [],
   "source": [
    "# define values needed to insert country\n",
    "print(country.insert())"
   ]
  },
  {
   "cell_type": "code",
   "execution_count": null,
   "id": "fbd84736-9230-4a99-aabd-31934641c8b6",
   "metadata": {},
   "outputs": [],
   "source": [
    "# providing the information for inserting south sudan as a country\n",
    "my_insert=country.insert().values(Code='SSD', Name='South Sudan', Continent='Africa', Region='Central', SurfaceArea=248777, \n",
    "                               IndepYear=2011, Population=11380000, LifeExpectancy=58, GNP=11600000000, GNPOld=0,\n",
    "                               LocalName='South Sudan', GovernmentForm='Presidential Republic', HeadOfState='Salva Kiir Mayardit',\n",
    "                               Capital='Juba', Code2='')"
   ]
  },
  {
   "cell_type": "code",
   "execution_count": null,
   "id": "29e38b31-2dd8-48e0-b198-28a46d162f90",
   "metadata": {},
   "outputs": [],
   "source": [
    "# execute the insert \n",
    "result = conn.execute(my_insert)"
   ]
  },
  {
   "cell_type": "code",
   "execution_count": null,
   "id": "8eba0aa2-dd7b-476f-9517-ebe24f173ec9",
   "metadata": {},
   "outputs": [],
   "source": [
    "# checking that data for South Sudan was sucessfully inserted into the Country Table \n",
    "query=select([country.c.Name, country.c.Capital, country.c.IndepYear, country.c.HeadOfState]).where(country.c.Name=='South Sudan')\n",
    "result = conn.execute(query)\n",
    "for row in result:\n",
    "    print(row)\n",
    "\n",
    "    \n",
    "# checking that data for South Sudan was sucessfully inserted into the Country Table "
   ]
  },
  {
   "cell_type": "markdown",
   "id": "1340bcfa-d9da-4da6-b563-3c6f28adbb4d",
   "metadata": {},
   "source": [
    "# Question 3"
   ]
  },
  {
   "cell_type": "code",
   "execution_count": null,
   "id": "62b544b3-514a-4212-acb2-d4701539680e",
   "metadata": {},
   "outputs": [],
   "source": [
    "# define the values you need to insert \n",
    "print(city.insert())"
   ]
  },
  {
   "cell_type": "code",
   "execution_count": null,
   "id": "2d069ec7-4dcc-46d1-ae0a-dbad3c75fb93",
   "metadata": {},
   "outputs": [],
   "source": [
    "my_insert=city.insert().values(Name='Juba', CountryCode='SSD',District='Central Equatoria',Population=525953)\n",
    "print(my_insert)"
   ]
  },
  {
   "cell_type": "code",
   "execution_count": null,
   "id": "0c46efe9-5ebf-4a52-99ef-19130fc2a3fe",
   "metadata": {},
   "outputs": [],
   "source": [
    "result = conn.execute(my_insert)"
   ]
  },
  {
   "cell_type": "code",
   "execution_count": null,
   "id": "946bc999-9273-46aa-8984-332c4eccbc15",
   "metadata": {},
   "outputs": [],
   "source": [
    "query=select([city.c.ID, city.c.Name, city.c.District, city.c.Population]).where(city.c.Name.like('Juba'))\n",
    "result = conn.execute(query)\n",
    "for row in result:\n",
    "    print(row)\n",
    "#checking that Juba was inserted into the city table "
   ]
  },
  {
   "cell_type": "code",
   "execution_count": null,
   "id": "3ebb9735-25df-45c6-925c-95e135fef627",
   "metadata": {},
   "outputs": [],
   "source": [
    "# adding the second city, Malakal\n",
    "my_insert=city.insert().values(Name='Malakal', CountryCode='SSD',District='Upper Nile State',Population=147450)\n",
    "print(my_insert)"
   ]
  },
  {
   "cell_type": "code",
   "execution_count": null,
   "id": "67bd0e1b-0be5-4293-8c29-c96184bbc0cf",
   "metadata": {},
   "outputs": [],
   "source": [
    "result = conn.execute(my_insert)"
   ]
  },
  {
   "cell_type": "code",
   "execution_count": 1,
   "id": "5a14471b-cb0d-464d-9298-bddea55bbf72",
   "metadata": {},
   "outputs": [
    {
     "ename": "NameError",
     "evalue": "name 'select' is not defined",
     "output_type": "error",
     "traceback": [
      "\u001b[0;31m---------------------------------------------------------------------------\u001b[0m",
      "\u001b[0;31mNameError\u001b[0m                                 Traceback (most recent call last)",
      "\u001b[0;32m/scratch/local/52903095/ipykernel_66391/4287102073.py\u001b[0m in \u001b[0;36m<cell line: 1>\u001b[0;34m()\u001b[0m\n\u001b[0;32m----> 1\u001b[0;31m \u001b[0mquery\u001b[0m\u001b[0;34m=\u001b[0m\u001b[0mselect\u001b[0m\u001b[0;34m(\u001b[0m\u001b[0;34m[\u001b[0m\u001b[0mcity\u001b[0m\u001b[0;34m.\u001b[0m\u001b[0mc\u001b[0m\u001b[0;34m.\u001b[0m\u001b[0mID\u001b[0m\u001b[0;34m,\u001b[0m \u001b[0mcity\u001b[0m\u001b[0;34m.\u001b[0m\u001b[0mc\u001b[0m\u001b[0;34m.\u001b[0m\u001b[0mName\u001b[0m\u001b[0;34m,\u001b[0m \u001b[0mcity\u001b[0m\u001b[0;34m.\u001b[0m\u001b[0mc\u001b[0m\u001b[0;34m.\u001b[0m\u001b[0mDistrict\u001b[0m\u001b[0;34m,\u001b[0m \u001b[0mcity\u001b[0m\u001b[0;34m.\u001b[0m\u001b[0mc\u001b[0m\u001b[0;34m.\u001b[0m\u001b[0mPopulation\u001b[0m\u001b[0;34m]\u001b[0m\u001b[0;34m)\u001b[0m\u001b[0;34m.\u001b[0m\u001b[0mwhere\u001b[0m\u001b[0;34m(\u001b[0m\u001b[0mcity\u001b[0m\u001b[0;34m.\u001b[0m\u001b[0mc\u001b[0m\u001b[0;34m.\u001b[0m\u001b[0mName\u001b[0m\u001b[0;34m==\u001b[0m\u001b[0;34m'Malakal'\u001b[0m\u001b[0;34m)\u001b[0m\u001b[0;34m\u001b[0m\u001b[0;34m\u001b[0m\u001b[0m\n\u001b[0m\u001b[1;32m      2\u001b[0m \u001b[0mresult\u001b[0m \u001b[0;34m=\u001b[0m \u001b[0mconn\u001b[0m\u001b[0;34m.\u001b[0m\u001b[0mexecute\u001b[0m\u001b[0;34m(\u001b[0m\u001b[0mquery\u001b[0m\u001b[0;34m)\u001b[0m\u001b[0;34m\u001b[0m\u001b[0;34m\u001b[0m\u001b[0m\n\u001b[1;32m      3\u001b[0m \u001b[0;32mfor\u001b[0m \u001b[0mrow\u001b[0m \u001b[0;32min\u001b[0m \u001b[0mresult\u001b[0m\u001b[0;34m:\u001b[0m\u001b[0;34m\u001b[0m\u001b[0;34m\u001b[0m\u001b[0m\n\u001b[1;32m      4\u001b[0m     \u001b[0mprint\u001b[0m\u001b[0;34m(\u001b[0m\u001b[0mrow\u001b[0m\u001b[0;34m)\u001b[0m\u001b[0;34m\u001b[0m\u001b[0;34m\u001b[0m\u001b[0m\n\u001b[1;32m      5\u001b[0m \u001b[0;34m\u001b[0m\u001b[0m\n",
      "\u001b[0;31mNameError\u001b[0m: name 'select' is not defined"
     ]
    }
   ],
   "source": [
    "query=select([city.c.ID, city.c.Name, city.c.District, city.c.Population]).where(city.c.Name.like('Malakal'))\n",
    "result = conn.execute(query)\n",
    "for row in result:\n",
    "    print(row)\n",
    "    \n",
    "# checking that Malakal was inserted into the city table "
   ]
  },
  {
   "cell_type": "code",
   "execution_count": null,
   "id": "97297c03-0c59-49d5-a059-f71b12bcd5c9",
   "metadata": {},
   "outputs": [],
   "source": []
  }
 ],
 "metadata": {
  "kernelspec": {
   "display_name": "UFRC Python-3.10",
   "language": "python",
   "name": "python3-3.10-ufrc"
  },
  "language_info": {
   "codemirror_mode": {
    "name": "ipython",
    "version": 3
   },
   "file_extension": ".py",
   "mimetype": "text/x-python",
   "name": "python",
   "nbconvert_exporter": "python",
   "pygments_lexer": "ipython3",
   "version": "3.10.5"
  }
 },
 "nbformat": 4,
 "nbformat_minor": 5
}
