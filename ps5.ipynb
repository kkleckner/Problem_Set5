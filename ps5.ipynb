{
 "cells": [
  {
   "cell_type": "markdown",
   "id": "6306c34d-1c42-4331-8f78-7997f3a17f50",
   "metadata": {},
   "source": [
    "# Problem Set 5\n",
    "\n",
    "For this problem set (Due Dec. 6th, 2022), we will be using world.sqlite to answer these questions. The database can be found at the following path on HiPerGator:\n",
    "```\n",
    "/blue/bsc4452/share/Class_Files/data/world.sqlite\n",
    "```"
   ]
  },
  {
   "cell_type": "markdown",
   "id": "3494e48c-191d-4aea-97fa-7bcb126affd9",
   "metadata": {},
   "source": [
    "### Group Members\n",
    "- Amanda Markee\n",
    "- Julia Bruner\n",
    "- Kaylin Kleckner"
   ]
  },
  {
   "cell_type": "markdown",
   "id": "89d0ef42-5bd9-4999-b05d-65869e5fc839",
   "metadata": {},
   "source": [
    "## Question 1 (Amanda)\n",
    "\n",
    "What is the country with the latest year (most recent) of independence? The code can either be SQL or SQLAlchemy code.\n",
    "\n",
    "- Provide your answer (2 points) \n",
    "- Provide the code used to get that answer (3 points)"
   ]
  },
  {
   "cell_type": "code",
   "execution_count": 1,
   "id": "13413e54-3b29-49cd-820d-91894d941dc1",
   "metadata": {},
   "outputs": [],
   "source": [
    "#!/usr/bin/env python\n",
    "from sqlalchemy import create_engine\n",
    "from sqlalchemy import MetaData\n",
    "from sqlalchemy import Table, Column\n",
    "from sqlalchemy import Integer, String\n",
    "from sqlalchemy import sql, select, join, desc\n",
    "from sqlalchemy import func\n",
    "\n",
    "# Create an Engine obect which is our handle into the database\n",
    "engine = create_engine('sqlite:////blue/bsc4452/amanda.markee/Class_Files/data/world.sqlite')\n",
    "\n",
    "# Connect to the database\n",
    "conn = engine.connect()\n",
    "\n",
    "# Read the metadata from the existing database.\n",
    "# Since the database already exists, and has tables defined, we can create Python objects based on these automatically.\n",
    "DBInfo = MetaData(engine)"
   ]
  },
  {
   "cell_type": "code",
   "execution_count": 2,
   "id": "cce29272-d78f-4edc-bca2-497cc31914db",
   "metadata": {},
   "outputs": [],
   "source": [
    "# Auto-create the city object basedon the metadata read into the DBInfo.\n",
    "city=Table('city', DBInfo, autoload=True)"
   ]
  },
  {
   "cell_type": "code",
   "execution_count": 3,
   "id": "a6b0e811-d41a-40e2-b570-56bf5d6f8b33",
   "metadata": {},
   "outputs": [
    {
     "data": {
      "text/plain": [
       "sqlalchemy.sql.schema.Table"
      ]
     },
     "execution_count": 3,
     "metadata": {},
     "output_type": "execute_result"
    }
   ],
   "source": [
    "type(city) # Not a dataframe, but a SQLalchemy schema table"
   ]
  },
  {
   "cell_type": "code",
   "execution_count": 4,
   "id": "a740512a-325b-4abb-b195-d8ac06c89057",
   "metadata": {},
   "outputs": [
    {
     "name": "stdout",
     "output_type": "stream",
     "text": [
      "(1, 'Kabul', 1780000)\n",
      "(2, 'Qandahar', 237500)\n",
      "(3, 'Herat', 186800)\n",
      "(4, 'Mazar-e-Sharif', 127800)\n",
      "(6, 'Rotterdam', 593321)\n",
      "(7, 'Haag', 440900)\n",
      "(8, 'Utrecht', 234323)\n",
      "(9, 'Eindhoven', 201843)\n",
      "(10, 'Tilburg', 193238)\n",
      "(11, 'Groningen', 172701)\n"
     ]
    }
   ],
   "source": [
    "# Mirroring this command: SELECT Id, Name, Population FROM city LIMIT 10;\n",
    "# city.c.ID where city = object, c = column, and ID = column name\n",
    "query = select([city.c.ID, city.c.Name, city.c.Population]).limit(10)\n",
    "result = conn.execute(query)\n",
    "for row in result:\n",
    "    print(row)"
   ]
  },
  {
   "cell_type": "code",
   "execution_count": 5,
   "id": "6e52aefc-f321-4545-9c22-f468f94254ef",
   "metadata": {},
   "outputs": [],
   "source": [
    "# Using the code above for guidence, I want to start building a table for country-specific information\n",
    "country=Table('country', DBInfo, autoload=True)"
   ]
  },
  {
   "cell_type": "code",
   "execution_count": 53,
   "id": "5d114107-4ea5-4a92-9d9b-0db926a91cda",
   "metadata": {},
   "outputs": [
    {
     "name": "stdout",
     "output_type": "stream",
     "text": [
      "('Palau', 1994)\n",
      "('Czech Republic', 1993)\n",
      "('Eritrea', 1993)\n",
      "('Slovakia', 1993)\n",
      "('Bosnia and Herzegovina', 1992)\n",
      "('Armenia', 1991)\n",
      "('Azerbaijan', 1991)\n",
      "('Belarus', 1991)\n",
      "('Estonia', 1991)\n",
      "('Georgia', 1991)\n"
     ]
    }
   ],
   "source": [
    "# Using the above code for guidence, I want to query the country with their independence year.\n",
    "# Lastly, I want to print the independence years in descending order to find the youngest country.\n",
    "\n",
    "query_ind = select([country.c.Name,country.c.IndepYear]).where(country.c.IndepYear is not None).order_by(desc(country.c.IndepYear)).limit(10)\n",
    "\n",
    "result = conn.execute(query_ind)\n",
    "for row in result:\n",
    "    print(row)"
   ]
  },
  {
   "cell_type": "markdown",
   "id": "0eeb0707-e34a-434a-85a2-b0d923778422",
   "metadata": {},
   "source": [
    "#### The answer for Question 1 is Palau, established in 1994 as the youngest country."
   ]
  },
  {
   "cell_type": "markdown",
   "id": "a6a2fc7e-3d84-443f-9406-c4df8b43f77e",
   "metadata": {},
   "source": [
    "## Question 2 (Julia)"
   ]
  },
  {
   "cell_type": "code",
   "execution_count": 13,
   "id": "8026d037-4ca2-45c6-914c-0dec052736a8",
   "metadata": {},
   "outputs": [],
   "source": [
    "# import functions from sqlalchemy\n",
    "from sqlalchemy import create_engine\n",
    "from sqlalchemy import MetaData\n",
    "from sqlalchemy import Table, Column\n",
    "from sqlalchemy import Integer, String\n",
    "from sqlalchemy import sql, select, join, desc"
   ]
  },
  {
   "cell_type": "code",
   "execution_count": 14,
   "id": "8fad3d50-4f76-45d9-8fa8-1b1a0a7bd41a",
   "metadata": {},
   "outputs": [],
   "source": [
    "# Create a engine/handle into the database.\n",
    "engine = create_engine('sqlite:////blue/bsc4452/juliabruner/world.sqlite')\n",
    "\n",
    "# Connect to the database\n",
    "conn = engine.connect()\n",
    "\n",
    "# Read the metadata from the existing database.\n",
    "#  Since the database already exists and has tables defined, we can create Python objects based on these automatically.\n",
    "DBInfo=MetaData(engine)"
   ]
  },
  {
   "cell_type": "code",
   "execution_count": 15,
   "id": "9e96e0b9-9ce7-4e7d-be97-9148904955ab",
   "metadata": {},
   "outputs": [],
   "source": [
    "# Auto-create the tables based on the metadata read into the DBInfo.\n",
    "\n",
    "city=Table('city', DBInfo, autoload=True)\n",
    "\n",
    "country=Table('country', DBInfo, autoload=True)\n",
    "\n",
    "countrylanguage=Table('countrylanguage', DBInfo, autoload=True)"
   ]
  },
  {
   "cell_type": "code",
   "execution_count": 16,
   "id": "d8ed271b-e04b-4bbe-a5f7-58026e86110d",
   "metadata": {},
   "outputs": [
    {
     "name": "stdout",
     "output_type": "stream",
     "text": [
      "INSERT INTO country (\"Code\", \"Name\", \"Continent\", \"Region\", \"SurfaceArea\", \"IndepYear\", \"Population\", \"LifeExpectancy\", \"GNP\", \"GNPOld\", \"LocalName\", \"GovernmentForm\", \"HeadOfState\", \"Capital\", \"Code2\") VALUES (?, ?, ?, ?, ?, ?, ?, ?, ?, ?, ?, ?, ?, ?, ?)\n"
     ]
    }
   ],
   "source": [
    "# define values needed to insert country\n",
    "print(country.insert())"
   ]
  },
  {
   "cell_type": "code",
   "execution_count": 17,
   "id": "fbd84736-9230-4a99-aabd-31934641c8b6",
   "metadata": {},
   "outputs": [],
   "source": [
    "# providing the information for inserting south sudan as a country\n",
    "# my_insert=country.insert().values(Code='SSD', Name='South Sudan', Continent='Africa', Region='Central', SurfaceArea=248777, \n",
    "#                               IndepYear=2011, Population=11380000, LifeExpectancy=58, GNP=11600000000, GNPOld=0,\n",
    "#                               LocalName='South Sudan', GovernmentForm='Presidential Republic', HeadOfState='Salva Kiir Mayardit',\n",
    "#                               Capital='Juba', Code2='')"
   ]
  },
  {
   "cell_type": "code",
   "execution_count": 18,
   "id": "29e38b31-2dd8-48e0-b198-28a46d162f90",
   "metadata": {},
   "outputs": [],
   "source": [
    "# execute the insert \n",
    "# result = conn.execute(my_insert)"
   ]
  },
  {
   "cell_type": "markdown",
   "id": "1a55c4ac-879e-40db-8c86-f10662881733",
   "metadata": {},
   "source": [
    "### NOTE: \n",
    "The 2 cells above are commented out to prevent an error from displaying. The error is related to the foreign key which dicates that the country code must be unique. Since I already ran the code to insert South as SSD, the cell cannot be run again without giving an error. Instead please refer to the output of the cell below to verify proper country insert. "
   ]
  },
  {
   "cell_type": "code",
   "execution_count": 19,
   "id": "8eba0aa2-dd7b-476f-9517-ebe24f173ec9",
   "metadata": {},
   "outputs": [
    {
     "name": "stdout",
     "output_type": "stream",
     "text": [
      "('South Sudan', 'Juba', 2011, 'Salva Kiir Mayardit')\n"
     ]
    }
   ],
   "source": [
    "# checking that data for South Sudan was sucessfully inserted into the Country Table \n",
    "query=select([country.c.Name, country.c.Capital, country.c.IndepYear, country.c.HeadOfState]).where(country.c.Name=='South Sudan')\n",
    "result = conn.execute(query)\n",
    "for row in result:\n",
    "    print(row)\n",
    "\n",
    "    \n",
    "# checking that data for South Sudan was sucessfully inserted into the Country Table "
   ]
  },
  {
   "cell_type": "markdown",
   "id": "1340bcfa-d9da-4da6-b563-3c6f28adbb4d",
   "metadata": {},
   "source": [
    "## Question 3 (Julia)"
   ]
  },
  {
   "cell_type": "code",
   "execution_count": 20,
   "id": "62b544b3-514a-4212-acb2-d4701539680e",
   "metadata": {},
   "outputs": [
    {
     "name": "stdout",
     "output_type": "stream",
     "text": [
      "INSERT INTO city (\"ID\", \"Name\", \"CountryCode\", \"District\", \"Population\") VALUES (?, ?, ?, ?, ?)\n"
     ]
    }
   ],
   "source": [
    "# define the values you need to insert \n",
    "print(city.insert())"
   ]
  },
  {
   "cell_type": "code",
   "execution_count": 21,
   "id": "2d069ec7-4dcc-46d1-ae0a-dbad3c75fb93",
   "metadata": {},
   "outputs": [
    {
     "name": "stdout",
     "output_type": "stream",
     "text": [
      "INSERT INTO city (\"Name\", \"CountryCode\", \"District\", \"Population\") VALUES (?, ?, ?, ?)\n"
     ]
    }
   ],
   "source": [
    "my_insert=city.insert().values(Name='Juba', CountryCode='SSD',District='Central Equatoria',Population=525953)\n",
    "print(my_insert)"
   ]
  },
  {
   "cell_type": "code",
   "execution_count": 22,
   "id": "0c46efe9-5ebf-4a52-99ef-19130fc2a3fe",
   "metadata": {},
   "outputs": [],
   "source": [
    "result = conn.execute(my_insert)"
   ]
  },
  {
   "cell_type": "code",
   "execution_count": 23,
   "id": "946bc999-9273-46aa-8984-332c4eccbc15",
   "metadata": {},
   "outputs": [
    {
     "name": "stdout",
     "output_type": "stream",
     "text": [
      "(3235, 'Juba', 'Bahr al-Jabal', 114980)\n",
      "(1234568, 'Juba', 'Central Equatoria', 525953)\n",
      "(1234569, 'Juba', 'Central Equatoria', 525953)\n",
      "(1234571, 'Juba', 'Central Equatoria', 525953)\n",
      "(1234573, 'Juba', 'Central Equatoria', 525953)\n"
     ]
    }
   ],
   "source": [
    "query=select([city.c.ID, city.c.Name, city.c.District, city.c.Population]).where(city.c.Name.like('Juba'))\n",
    "result = conn.execute(query)\n",
    "for row in result:\n",
    "    print(row)\n",
    "#checking that Juba was inserted into the city table "
   ]
  },
  {
   "cell_type": "code",
   "execution_count": 24,
   "id": "3ebb9735-25df-45c6-925c-95e135fef627",
   "metadata": {},
   "outputs": [
    {
     "name": "stdout",
     "output_type": "stream",
     "text": [
      "INSERT INTO city (\"Name\", \"CountryCode\", \"District\", \"Population\") VALUES (?, ?, ?, ?)\n"
     ]
    }
   ],
   "source": [
    "# adding the second city, Malakal\n",
    "my_insert=city.insert().values(Name='Malakal', CountryCode='SSD',District='Upper Nile State',Population=147450)\n",
    "print(my_insert)"
   ]
  },
  {
   "cell_type": "code",
   "execution_count": 25,
   "id": "67bd0e1b-0be5-4293-8c29-c96184bbc0cf",
   "metadata": {},
   "outputs": [],
   "source": [
    "result = conn.execute(my_insert)"
   ]
  },
  {
   "cell_type": "code",
   "execution_count": 26,
   "id": "5a14471b-cb0d-464d-9298-bddea55bbf72",
   "metadata": {},
   "outputs": [
    {
     "name": "stdout",
     "output_type": "stream",
     "text": [
      "(1234570, 'Malakal', 'Upper Nile State', 147450)\n",
      "(1234572, 'Malakal', 'Upper Nile State', 147450)\n",
      "(1234574, 'Malakal', 'Upper Nile State', 147450)\n"
     ]
    }
   ],
   "source": [
    "query=select([city.c.ID, city.c.Name, city.c.District, city.c.Population]).where(city.c.Name.like('Malakal'))\n",
    "result = conn.execute(query)\n",
    "for row in result:\n",
    "    print(row)\n",
    "    \n",
    "# checking that Malakal was inserted into the city table "
   ]
  }
 ],
 "metadata": {
  "kernelspec": {
   "display_name": "UFRC Python-3.10",
   "language": "python",
   "name": "python3-3.10-ufrc"
  },
  "language_info": {
   "codemirror_mode": {
    "name": "ipython",
    "version": 3
   },
   "file_extension": ".py",
   "mimetype": "text/x-python",
   "name": "python",
   "nbconvert_exporter": "python",
   "pygments_lexer": "ipython3",
   "version": "3.10.5"
  }
 },
 "nbformat": 4,
 "nbformat_minor": 5
}
